{
 "cells": [
  {
   "cell_type": "markdown",
   "metadata": {},
   "source": [
    "# 20180712 Thursday\n",
    "\n",
    "## To make a Work In Progress presentation/blog post, the first thing I want to do is Graph US (CDC) flu season peaks  \n",
    "- I need to do this to help me determine which date frame I can download isolates from to get a small story that is interesting  \n",
    "\n",
    "### FluView \n",
    "https://www.cdc.gov/flu/weekly/fluviewinteractive.htm\n",
    "- choose tab: ILI and Viral Surveillance\n",
    "- Which link is appropriate?\n",
    "    - https://gis.cdc.gov/grasp/fluview/fluportaldashboard.html\n",
    "        - National, Regional, and State Level Outpatient Illness and Viral Surveillance\n",
    "        - This application showcases two of CDC’s influenza surveillance systems, the WHO/NREVSS Collaborating Labs and the US Outpatient Influenza-like Illness Surveillance Network (ILINet). Users are able to view both influenza laboratory data and medically attended visits for influenza-like illness (ILI) side by side for the influenza season and geography (national, regional, or select states) of interest.\n",
    "        - Data downloaded to this file: \"FluViewPhase2Data.zip\"\n",
    "    - https://gis.cdc.gov/grasp/fluview/flu_by_age_virus.html\n",
    "        - Age Group Distribution of Influenza Positive Tests Reported by Public Health Laboratories\n",
    "        - A second application also shows the age group distribution of influenza positive tests that are reported by public health laboratories by influenza virus type and subtype/lineage. This application allows users to view laboratory data from multiple seasons and different age groups.\n",
    "        - data downloaded to these 2 files: \"VirusViewByWeek.csv\", \"AgeViewByWeek.csv\"\n",
    "\n",
    "The three files above are saved in the directory \n",
    "~/Documents/Work/Programming/bioinf/Data/CDCvirusILI\n",
    "\n",
    "Note the disclaimers have the two links:\n",
    "- https://www.cdc.gov/flu/weekly/overview.htm#Viral\n",
    "- https://www.cdc.gov/flu/weekly/overview.htm#Outpatient\n",
    "    \n",
    "\n",
    "\n"
   ]
  },
  {
   "cell_type": "markdown",
   "metadata": {},
   "source": [
    "# 20180713 Friday\n",
    "\n",
    "Try to graph CDC data\n",
    "\n",
    "First clean the data\n",
    "\n",
    "Is there a way to ensure same number of weeks per year? \n",
    "\n",
    "What does the data look like?\n",
    "\n",
    "Found .xls spreadsheets that I used for my last interview & put them into google drive (so I could look at them cuz I don't want to buy excel right now)"
   ]
  },
  {
   "cell_type": "markdown",
   "metadata": {},
   "source": [
    "# 20180715 Sunday\n",
    "\n",
    "File: ILINet.csv    \n",
    "\n",
    "This file contains data with the percentage of visits for influenza-like-illness reported by sentinel providers    \n",
    "\n",
    "I want a graph with x = time, y = %UNWEIGHTED ILI, and I will need to determine time as a proportion of weeks per year. "
   ]
  },
  {
   "cell_type": "markdown",
   "metadata": {},
   "source": [
    "# 20180716 Monday\n",
    "\n",
    "Decided to organize my projects & Jupyter notebooks by figure, so pasted the above here and moved data file to folder below\n"
   ]
  },
  {
   "cell_type": "code",
   "execution_count": 2,
   "metadata": {},
   "outputs": [
    {
     "data": {
      "text/plain": [
       "'/Users/Ds2007laptop/Documents/Work/Programming/Flu/001my1stproject_FluHA2018/Figures/Fig1_CDC-ILI'"
      ]
     },
     "execution_count": 2,
     "metadata": {},
     "output_type": "execute_result"
    }
   ],
   "source": [
    "pwd"
   ]
  },
  {
   "cell_type": "markdown",
   "metadata": {},
   "source": [
    "### Data is here:   \n",
    "/Users/Ds2007laptop/Documents/Work/Programming/Flu/001my1stproject_FluHA2018/Data/CDCvirusILI/FluViewPhase2Data/ILINet.csv  \n",
    "\n",
    "Question: How do I get the text above to wrap in Jupyter?\n",
    "Answer:\n",
    "https://stackoverflow.com/questions/36419342/how-to-wrap-code-text-in-jupyter-notebooks"
   ]
  },
  {
   "cell_type": "markdown",
   "metadata": {},
   "source": [
    "### Steps to get what I want  \n",
    "- load a csv wrangler... look in Bioinf book to find out what's it called\n",
    "- create a new column \"PortionOfYear\" that holds the solution from dividing the value in column \"WEEK\" by 53\n",
    "- create a new column \"YearWPortion\" that adds the integer column \"YEAR\" + the integer in column \"YearWPortion\"\n",
    "- graph, using matplotlib plt., \n",
    "    - x-axis values from \"YearWPortion\"\n",
    "    - y-axis values from \"%UNWEIGHTED ILI\"\n",
    "- look to see if I need to add week 53 to some years or is data okay as is?"
   ]
  },
  {
   "cell_type": "markdown",
   "metadata": {},
   "source": [
    "# 20180717 Tuesday\n",
    "\n",
    "## csv wrangling /  munging\n",
    "\n",
    "Read Py4Bio, Ch 5.3 - CSV files\n",
    "\n",
    "Try to make sense of Listing 5.6 in \"Python for Bioinformatics, second edition\" Jupyter Notebooks\n",
    "\n",
    "go back to beginning of... \n",
    "### Ch5 Reading and Writing Files\n",
    "\n",
    "\"reading a text file\" is the process of entering the data from a file into a program.\n",
    "\n",
    "\"parsing\" is the process of determining the syntactic structure of an expression to retrieve specific information for further analysis.\n",
    "\n",
    "(I'm not sure what \"an expression\" is, but I'll press on, it could it be a document(?))\n",
    "\n",
    "- A .csv file consists of data that are separated by commas and returns  \n",
    "- When python reads a .csv file, it recognizes each line as a string  \n",
    "- then you have to parse the data, meaning you have to tell python that the commas (or tabs, etc...) separate specific units of data   \n",
    "\n",
    "CSV files are handy, but their data is not hierarchical. JSON & XML can store hierarchical data.\n",
    "- JSON is JavaScript Object Notation  \n",
    "- XML is eXtensible Markup Language  \n",
    "Pickle is a python module that can store and retrieve the contents of variables.  \n",
    "\n",
    "\n",
    "Download the files so I can run some of the Py4Bio programs here (add hash after 1st run, so I don't download multiple times)\n",
    "\n",
    "Question: Why doesn't the list go into a scrollable window like it does in the Py4Bio notebook?"
   ]
  },
  {
   "cell_type": "code",
   "execution_count": 13,
   "metadata": {},
   "outputs": [
    {
     "name": "stdout",
     "output_type": "stream",
     "text": [
      "  % Total    % Received % Xferd  Average Speed   Time    Time     Time  Current\n",
      "                                 Dload  Upload   Total   Spent    Left  Speed\n",
      "100 16.5M  100 16.5M    0     0  5087k      0  0:00:03  0:00:03 --:--:-- 5089k\n",
      "x BLAST_output.xml\n",
      "x TAIR7_Transcripts_by_map_position.gz\n",
      "x pMOSBlue.txt\n",
      "x fishbacteria.csv\n",
      "x UniVec_Core.nsq\n",
      "x t3beta.fasta\n",
      "x PythonU.db\n",
      "x input4align.dnd\n",
      "x pdb1apk.ent.gz\n",
      "x readme.txt\n",
      "x contig1.ace\n",
      "x example.aln\n",
      "x hsc1.fasta\n",
      "x bioinfo/seqs/15721870.fasta\n",
      "x primers.txt\n",
      "x bioinfo/seqs/4586830.fasta\n",
      "x bioinfo/seqs/7638455.fasta\n",
      "x GSM188012.CEL\n",
      "x 3seqs.fas\n",
      "x sampleX.fas\n",
      "x sampleXblast.xml\n",
      "x B1.csv\n",
      "x phd1\n",
      "x conglycinin.phy\n",
      "x bioinfo/seqs/218744616.fasta\n",
      "x spfile.txt\n",
      "x bioinfo/seqs/513419.fasta\n",
      "x bioinfo/seqs/513710.fasta\n",
      "x prot.fas\n",
      "x cas9align.fasta\n",
      "x seqA.fas\n",
      "x bioinfo/seqs/\n",
      "x bioinfo/\n",
      "x pdbaa\n",
      "x other.xml\n",
      "x vectorssmall.fasta\n",
      "x t3.fasta\n",
      "x a19.gp\n",
      "x data.csv\n",
      "x input4align.fasta\n",
      "x B1IXL9.txt\n",
      "x fasta22.fas\n",
      "x bioinfo/seqs/7415878.fasta\n",
      "x bioinfo/seqs/513718.fasta\n",
      "x bioinfo/seqs/513719.fasta\n",
      "x bioinfo/seqs/6598312.fasta\n",
      "x UniVec_Core.nin\n",
      "x Q5R5X8.fas\n",
      "x bioinfo/seqs/513717.fasta\n",
      "x BcrA.gp\n",
      "x bioinfo/seqs/2623545.fasta\n",
      "x bioinfo/seqs/63108399.fasta\n",
      "x conglycinin.dnd\n",
      "x NC2033.txt\n",
      "x fishdata.csv\n",
      "x uniprotrecord.xml\n",
      "x BLAST_output.html\n",
      "x Q9JJE1.xml\n",
      "x test3.csv\n",
      "x UniVec_Core.nhr\n",
      "x sampledata.xlsx\n",
      "x UniVec_Core\n",
      "x NC_006581.gb\n",
      "x conglycinin.multiple.phy\n",
      "x conglycinin.fasta\n"
     ]
    }
   ],
   "source": [
    "# !curl https://raw.githubusercontent.com/Serulab/Py4Bio/master/samples/samples.tar.bz2 -o samples.tar.bz2\n",
    "# !mkdir samples\n",
    "# !tar xvfj samples.tar.bz2 -C samples"
   ]
  },
  {
   "cell_type": "markdown",
   "metadata": {},
   "source": [
    "\n",
    "Reading a file is a 3 step process in Python:\n",
    "1. Open() is used to create a _filehandle_  \n",
    "    - The _filehandle_ is used to refer to the file during the file's lifetime\n",
    "    - open(nameoffile, opening mode) # open takes 2 parameters\n",
    "    - format(nameoffile) = str, including system (aka absolute) path\n",
    "        - a relative path is one that takes you from the directory you are in to the file\n",
    "        - an absolute path takes you to the file from the home directory\n",
    "    - opening mode can = \n",
    "        - \"r\" to read (default)\n",
    "        - \"w\" to write\n",
    "        - \"r+\" read & write\n",
    "        - \"a\" to append\n",
    "    - e.g. >>> file_handle = open('readme.txt', 'r')\n",
    "\n",
    "\n",
    "2. Reading the contents of a file\n",
    "    (These are good for fasta files, see examples in Ch 5.1)\n",
    "    - file_handle.read(n)\n",
    "        - reads n bytes from the file, without a parameter it reads the whole file\n",
    "    - file_handle.readine()\n",
    "        - returns a string with only one line including '\\n' to mark the end of a line\n",
    "        - Question: could I use this function as an easy way to get the 1st line of a .csv file?\n",
    "        - Answer: yes\n",
    "    - file_handle.readlines()\n",
    "        - returns a list where each line is turned into an element with the format of a string \n",
    "\n",
    "\n",
    "3. Close the file\n",
    "    - file_handle.close()\n",
    "    - if we don't close it Python will close it after program execution, but this could leave files open & using memory when they are not being used\n",
    "    - use __with__ \n",
    "\n",
    "    - Instead of:"
   ]
  },
  {
   "cell_type": "code",
   "execution_count": 2,
   "metadata": {},
   "outputs": [],
   "source": [
    "file_handle = open('samples/seqA.fas', 'r')\n",
    "# do something with the file\n",
    "file_handle.read()\n",
    "file_handle.close()"
   ]
  },
  {
   "cell_type": "markdown",
   "metadata": {},
   "source": [
    "   - Do this:"
   ]
  },
  {
   "cell_type": "code",
   "execution_count": 19,
   "metadata": {},
   "outputs": [
    {
     "name": "stdout",
     "output_type": "stream",
     "text": [
      ">O00626|HUMAN Small inducible cytokine A22.\n",
      "MARLQTALLVVLVLLAVALQATEAGPYGANMEDSVCCRDYVRYRLPLRVVKHFYWTSDSCPRPGVVLLTFRDKEICADPRVPWVKMILNKLSQ\n",
      "\n"
     ]
    }
   ],
   "source": [
    "with open('samples/seqA.fas', 'r') as file_handle:\n",
    "    print(file_handle.read()) # after this the file is closed"
   ]
  },
  {
   "cell_type": "markdown",
   "metadata": {},
   "source": [
    "Note: fh is short for file_handle\n",
    "Note: read() could take up too much memory when dealing with big files, therefore you should use readline() to loop thorugh the lines instead\n",
    "\n",
    "To iterage through lines run a for loop: `for x in filehandle:`"
   ]
  },
  {
   "cell_type": "markdown",
   "metadata": {},
   "source": [
    "Listing 5.2"
   ]
  },
  {
   "cell_type": "code",
   "execution_count": null,
   "metadata": {},
   "outputs": [],
   "source": [
    "sequence = ' ' \n",
    "with open('samples/seqA.fas') as fh:\n",
    "    name = fh.readline()[1:-1] \n",
    "    for line in fh: # iterates through all lines in the file, starting after the one read above\n",
    "        sequence += line.replace('\\n','') # replaces (old, new) \n",
    "print('The name is: {0}'.format(name))\n",
    "print('The sequence is: {0}'.format(sequence))"
   ]
  },
  {
   "cell_type": "markdown",
   "metadata": {},
   "source": [
    "Listing 5.6: To iterate through a .csv file... "
   ]
  },
  {
   "cell_type": "code",
   "execution_count": 20,
   "metadata": {},
   "outputs": [
    {
     "name": "stdout",
     "output_type": "stream",
     "text": [
      "MarkerID,LenAmp,MotifAmpForSeq\n",
      "TKO001,119,AG(12)\n",
      "TKO002,255,TC(16)\n",
      "TKO003,121,AG(5)\n",
      "TKO004,220,AG(9)\n",
      "TKO005,238,TC(17)\n",
      "\n"
     ]
    }
   ],
   "source": [
    "with open('samples/B1.csv', 'r') as file_handle:\n",
    "    print(file_handle.read())"
   ]
  },
  {
   "cell_type": "code",
   "execution_count": 2,
   "metadata": {},
   "outputs": [
    {
     "name": "stdout",
     "output_type": "stream",
     "text": [
      "190.6\n"
     ]
    }
   ],
   "source": [
    "total_len = 0\n",
    "with open('samples/B1.csv') as fh:\n",
    "    next(fh) # returns the next line, skips the header\n",
    "    for n, line in enumerate(fh): # n and line are the iterating variables. enumerate creates an indexed list\n",
    "        data = line.split(',') # assigns the variable data to each line split by comma\n",
    "        total_len += int(data[1]) # int converts the string LenAmp to an integer\n",
    "print(total_len/(n+1)) # need +1 for average because index starts at zero!"
   ]
  },
  {
   "cell_type": "markdown",
   "metadata": {},
   "source": [
    "Question: how are n and line differentiated in the first line of the for loop? How does n get assigned the number from enumerate while line refers to the whole line?\n",
    "\n",
    "Googled python 3 enumerate\n",
    "\n",
    "you can have two items in a for loop usually interpreted positionally based on the function that follows\n",
    "\n",
    "found: the for loop of enumerate binds to `row_number` and `row`"
   ]
  },
  {
   "cell_type": "code",
   "execution_count": 1,
   "metadata": {},
   "outputs": [],
   "source": [
    "next?"
   ]
  },
  {
   "cell_type": "code",
   "execution_count": 16,
   "metadata": {},
   "outputs": [],
   "source": [
    "enumerate?"
   ]
  },
  {
   "cell_type": "code",
   "execution_count": 17,
   "metadata": {},
   "outputs": [],
   "source": [
    "int?"
   ]
  },
  {
   "cell_type": "markdown",
   "metadata": {},
   "source": [
    "Python3 has a library called `csv` "
   ]
  },
  {
   "cell_type": "markdown",
   "metadata": {},
   "source": [
    "Listing 5.7"
   ]
  },
  {
   "cell_type": "code",
   "execution_count": 6,
   "metadata": {},
   "outputs": [
    {
     "name": "stdout",
     "output_type": "stream",
     "text": [
      "190.6\n"
     ]
    }
   ],
   "source": [
    "import csv\n",
    "total_len=0\n",
    "lines = csv.reader(open('samples/B1.csv')) # assigns the variable lines to the open & read file\n",
    "next(lines) # skips the header line\n",
    "for n, line in enumerate(lines):\n",
    "    total_len += int(line[1])\n",
    "print(total_len / (n + 1))"
   ]
  },
  {
   "cell_type": "markdown",
   "metadata": {},
   "source": [
    "Using the csv module allows us to access the contents of each line wihout using the split() method\n",
    "\n",
    "Converting the object returned by the reader method to a list generates something similar to a matrix\n",
    "- this makes a two-dimensional array of the type name[row,column]"
   ]
  },
  {
   "cell_type": "code",
   "execution_count": 22,
   "metadata": {},
   "outputs": [
    {
     "data": {
      "text/plain": [
       "'MotifAmpForSeq'"
      ]
     },
     "execution_count": 22,
     "metadata": {},
     "output_type": "execute_result"
    }
   ],
   "source": [
    "data = list(csv.reader(open('samples/B1.csv')))\n",
    "data[0][2]"
   ]
  },
  {
   "cell_type": "markdown",
   "metadata": {},
   "source": [
    "More functions from the csv module"
   ]
  },
  {
   "cell_type": "code",
   "execution_count": null,
   "metadata": {},
   "outputs": [],
   "source": [
    "# define the delimeter\n",
    "rows = csv.reader(open('/etc/passwd'), delimiter=':')"
   ]
  },
  {
   "cell_type": "code",
   "execution_count": 31,
   "metadata": {},
   "outputs": [
    {
     "name": "stdout",
     "output_type": "stream",
     "text": [
      "Entry\tEntry name\tStatus\tProtein names\tGene names\tOrganism\tLength\n",
      "Q8BG02\t2ABG_MOUSE\treviewed\tSerine/threonine-protein phosphatase 2A 55 kDa regulatory subunit B gamma isoform (PP2A subunit B isoform B55-gamma) (PP2A subunit B isoform PR55-gamma) (PP2A subunit B isoform R2-gamma) (PP2A subunit B isoform gamma)\tPpp2r2c\tMus musculus (Mouse)\t447\n",
      "P24815\t3BHS1_MOUSE\treviewed\t3 beta-hydroxysteroid dehydrogenase/Delta 5-->4-isomerase type 1 (3 beta-hydroxysteroid dehydrogenase/Delta 5-->4-isomerase type I) (3-beta-HSD I) [Includes: 3-beta-hydroxy-Delta(5)-steroid dehydrogenase (EC 1.1.1.145) (3-beta-hydroxy-5-ene steroid dehydrogenase) (Progesterone reductase); Steroid Delta-isomerase (EC 5.3.3.1) (Delta-5-3-ketosteroid isomerase)]\tHsd3b1 Hsd3b\tMus musculus (Mouse)\t373\n",
      "P55194\t3BP1_MOUSE\treviewed\tSH3 domain-binding protein 1 (3BP-1)\tSh3bp1 3bp1\tMus musculus (Mouse)\t601\n",
      "P28334\t5HT1B_MOUSE\treviewed\t5-hydroxytryptamine receptor 1B (5-HT-1B) (5-HT1B) (Serotonin receptor 1B)\tHtr1b 5ht1b\tMus musculus (Mouse)\t386\n",
      "P35363\t5HT2A_MOUSE\treviewed\t5-hydroxytryptamine receptor 2A (5-HT-2) (5-HT-2A) (Serotonin receptor 2A)\tHtr2a Htr2\tMus musculus (Mouse)\t471\n",
      "Q02152\t5HT2B_MOUSE\treviewed\t5-hydroxytryptamine receptor 2B (5-HT-2B) (5-HT2B) (5-HT-2F) (NP75 protein) (Serotonin receptor 2B)\tHtr2b\tMus musculus (Mouse)\t479\n",
      "P23979\t5HT3A_MOUSE\treviewed\t5-hydroxytryptamine receptor 3A (5-HT3-A) (5-HT3A) (5-hydroxytryptamine receptor 3) (5-HT-3) (5-HT3R) (Serotonin receptor 3A) (Serotonin-gated ion channel receptor)\tHtr3a 5ht3 Htr3\tMus musculus (Mouse)\t487\n",
      "P97288\t5HT4R_MOUSE\treviewed\t5-hydroxytryptamine receptor 4 (5-HT-4) (5-HT4) (Serotonin receptor 4)\tHtr4\tMus musculus (Mouse)\t388\n",
      "P32304\t5HT7R_MOUSE\treviewed\t5-hydroxytryptamine receptor 7 (5-HT-7) (5-HT7) (5-HT-X) (Serotonin receptor 7)\tHtr7\tMus musculus (Mouse)\t448\n",
      "Q9DCD0\t6PGD_MOUSE\treviewed\t6-phosphogluconate dehydrogenase, decarboxylating (EC 1.1.1.44)\tPgd\tMus musculus (Mouse)\t483\n",
      "Q61247\tA2AP_MOUSE\treviewed\tAlpha-2-antiplasmin (Alpha-2-AP) (Alpha-2-plasmin inhibitor) (Alpha-2-PI) (Serpin F2)\tSerpinf2 Pli\tMus musculus (Mouse)\t491\n",
      "Q9WVM8\tAADAT_MOUSE\treviewed\tKynurenine/alpha-aminoadipate aminotransferase, mitochondrial (KAT/AadAT) (2-aminoadipate aminotransferase) (2-aminoadipate transaminase) (EC 2.6.1.39) (Alpha-aminoadipate aminotransferase) (AadAT) (Kynurenine aminotransferase II) (Kynurenine--oxoglutarate aminotransferase II) (Kynurenine--oxoglutarate transaminase 2) (EC 2.6.1.7) (Kynurenine--oxoglutarate transaminase II)\tAadat Kat2\tMus musculus (Mouse)\t425\n",
      "P41234\tABCA2_MOUSE\treviewed\tATP-binding cassette sub-family A member 2 (ATP-binding cassette transporter 2) (ATP-binding cassette 2)\tAbca2 Abc2\tMus musculus (Mouse)\t2434\n",
      "Q8R420\tABCA3_MOUSE\treviewed\tATP-binding cassette sub-family A member 3\tAbca3\tMus musculus (Mouse)\t1704\n",
      "Q91V24\tABCA7_MOUSE\treviewed\tATP-binding cassette sub-family A member 7\tAbca7\tMus musculus (Mouse)\t2159\n",
      "Q9QY30\tABCBB_MOUSE\treviewed\tBile salt export pump (ATP-binding cassette sub-family B member 11) (Sister of P-glycoprotein)\tAbcb11 Bsep Spgp\tMus musculus (Mouse)\t1321\n",
      "P70170\tABCC9_MOUSE\treviewed\tATP-binding cassette sub-family C member 9 (Sulfonylurea receptor 2)\tAbcc9 Sur2\tMus musculus (Mouse)\t1546\n",
      "Q9DBL1\tACDSB_MOUSE\treviewed\tShort/branched chain specific acyl-CoA dehydrogenase, mitochondrial (SBCAD) (EC 1.3.8.5) (2-methyl branched chain acyl-CoA dehydrogenase) (2-MEBCAD) (2-methylbutyryl-coenzyme A dehydrogenase) (2-methylbutyryl-CoA dehydrogenase)\tAcadsb\tMus musculus (Mouse)\t432\n",
      "P49582\tACHA7_MOUSE\treviewed\tNeuronal acetylcholine receptor subunit alpha-7\tChrna7 Acra7\tMus musculus (Mouse)\t502\n",
      "Q8VCW8\tACSF2_MOUSE\treviewed\tAcyl-CoA synthetase family member 2, mitochondrial (EC 6.2.1.-)\tAcsf2\tMus musculus (Mouse)\t615\n",
      "Q3UNX5\tACSM3_MOUSE\treviewed\tAcyl-coenzyme A synthetase ACSM3, mitochondrial (EC 6.2.1.2) (Acyl-CoA synthetase medium-chain family member 3) (Butyrate--CoA ligase 3) (Butyryl-coenzyme A synthetase 3) (Middle-chain acyl-CoA synthetase 3) (Protein SA homolog)\tAcsm3 Sa Sah\tMus musculus (Mouse)\t580\n",
      "Q8VCV1\tAB17C_MOUSE\treviewed\tProtein ABHD17C (EC 3.-.-.-) (Alpha/beta hydrolase domain-containing protein 17C) (Abhydrolase domain-containing protein 17C)\tAbhd17c\tMus musculus (Mouse)\t320\n",
      "\n"
     ]
    }
   ],
   "source": [
    "with open('samples/data.csv', 'r') as file_handle:\n",
    "    print(file_handle.read())"
   ]
  },
  {
   "cell_type": "code",
   "execution_count": null,
   "metadata": {},
   "outputs": [],
   "source": [
    "rows = csv.reader(open('samples/data.csv'), dialect='excel')"
   ]
  },
  {
   "cell_type": "markdown",
   "metadata": {},
   "source": [
    "Sniffer() is a class that tries to determine whether the dialect for a file is commas or tabs"
   ]
  },
  {
   "cell_type": "code",
   "execution_count": 29,
   "metadata": {},
   "outputs": [
    {
     "name": "stdout",
     "output_type": "stream",
     "text": [
      "['Entry', 'Entry name', 'Status', 'Protein names', 'Gene names', 'Organism', 'Length']\n",
      "['Q8BG02', '2ABG_MOUSE', 'reviewed', 'Serine/threonine-protein phosphatase 2A 55 kDa regulatory subunit B gamma isoform (PP2A subunit B isoform B55-gamma) (PP2A subunit B isoform PR55-gamma) (PP2A subunit B isoform R2-gamma) (PP2A subunit B isoform gamma)', 'Ppp2r2c', 'Mus musculus (Mouse)', '447']\n"
     ]
    }
   ],
   "source": [
    "dialect = csv.Sniffer().sniff(open('samples/data.csv').read())\n",
    "rows = csv.reader(open('samples/data.csv'), dialect=dialect)\n",
    "print(next(rows))\n",
    "print(next(rows))"
   ]
  },
  {
   "cell_type": "markdown",
   "metadata": {},
   "source": [
    "For more methods in the CSV module see...\n",
    "- See Python documentantion: https://docs.python.org/3/library/csv.html\n",
    "- Python Enhancement Proposal (PEP): https://www.python.org/dev/peps/pep-0305/"
   ]
  },
  {
   "cell_type": "markdown",
   "metadata": {},
   "source": [
    "### To directly read Excel files use the __xlrd__ module\n",
    "- install with pip or conda\n",
    "\n",
    "Listing 5.8: Read and xlsx file with xlrd"
   ]
  },
  {
   "cell_type": "markdown",
   "metadata": {},
   "source": [
    "Make a dictionary out of column A (0, keys) and Column C (2, values)"
   ]
  },
  {
   "cell_type": "code",
   "execution_count": 32,
   "metadata": {},
   "outputs": [
    {
     "name": "stdout",
     "output_type": "stream",
     "text": [
      "{6273: 'CGAELNHFL', 14101: 'ERYLKDQQL', 22030: 'GRFKLIVLY', 25569: 'IDFPKTFGW', 26070: 'IFFPKTFGW', 26790: 'IKFPKTFGW', 27049: 'ILFPKTFGW', 27636: 'INFPKTFGW', 28419: 'IRYPKTFGW', 33140: 'KRGILTLKY', 33170: 'KRKKAYADF', 33260: 'KRYKSIVKY', 55565: 'RRFVNVVPTF', 55785: 'RRYQKSTEL', 58781: 'SKADVIAKY', 60636: 'SRDKTIIMW', 63789: 'TGASIQTTL', 144753: 'QRSPMFEGTL', 144784: 'SKFPKMRMG', 226822: 'AKFPGMKKSK', 504020: 'NQFNGGCLLV'}\n"
     ]
    }
   ],
   "source": [
    "import xlrd\n",
    "iedb = {} # creates an empty dictionary\n",
    "book = xlrd.open_workbook('samples/sampledata.xlsx') # retrieves data from an Excel file\n",
    "sh = book.sheet_by_index(0) # runs command sheet_by_index on variable book to create sh, starting with the first index\n",
    "for row_index in range(1, sh.nrows): #skips fist line\n",
    "    iedb[int(sh.cell_value(rowx=row_index, colx=0))] = \\\n",
    "        sh.cell_value(rowx=row_index, colx=2)\n",
    "print(iedb)"
   ]
  },
  {
   "cell_type": "markdown",
   "metadata": {},
   "source": [
    "Listing 5.9: Write and XLS file with xlwt"
   ]
  },
  {
   "cell_type": "code",
   "execution_count": null,
   "metadata": {},
   "outputs": [],
   "source": [
    "import xlwt\n",
    "list1 = [1,2,3,4,5]\n",
    "list2 = [234,267,281,301,331]\n",
    "wb = xlwt.Workbook()\n",
    "ws = wb.add_sheet('First sheet')\n",
    "ws.write(0,0,'Column A')\n",
    "ws.write(0,1,'Column B')\n",
    "i = 1\n",
    "for x,y in zip(list1,list2): #Walk two list at the same time.\n",
    "    ws.write(i,0,x) # Row, Column, Data.\n",
    "    ws.write(i,1,y)\n",
    "    i += 1\n",
    "wb.save('mynewfile.xls')"
   ]
  },
  {
   "cell_type": "markdown",
   "metadata": {},
   "source": [
    "See chapter 18, listing 18.2 for a pyExcelerator example"
   ]
  },
  {
   "cell_type": "markdown",
   "metadata": {},
   "source": [
    "Pickle: can store all variables created during a program and retrieve them later"
   ]
  },
  {
   "cell_type": "code",
   "execution_count": 33,
   "metadata": {},
   "outputs": [],
   "source": [
    "import pickle\n",
    "sp_dict = {'one':'uno', 'two':'dos', 'three':'tres'}\n",
    "with open('spdict.data', 'wb') as fh:\n",
    "    pickle.dump(sp_dict, fh)"
   ]
  },
  {
   "cell_type": "code",
   "execution_count": 34,
   "metadata": {},
   "outputs": [
    {
     "data": {
      "text/plain": [
       "{'one': 'uno', 'two': 'dos', 'three': 'tres'}"
      ]
     },
     "execution_count": 34,
     "metadata": {},
     "output_type": "execute_result"
    }
   ],
   "source": [
    "pickle.load(open('spdict.data','rb'))\n",
    "{'one':'uno', 'two':'dos', 'three':'tres'}"
   ]
  },
  {
   "cell_type": "markdown",
   "metadata": {},
   "source": [
    "What do I want to do with my csv file? \n",
    "- open, read it into an array/matrix \n",
    "- append a new column entitled \"PortionOfYear\" that holds the solution from dividing the value in column \"WEEK\" by 53"
   ]
  },
  {
   "cell_type": "code",
   "execution_count": 9,
   "metadata": {},
   "outputs": [
    {
     "data": {
      "text/plain": [
       "'X'"
      ]
     },
     "execution_count": 9,
     "metadata": {},
     "output_type": "execute_result"
    }
   ],
   "source": [
    "# data = list(csv.reader(open('../../Data/CDCvirusILI/FluViewPhase2Data/ILINet.csv')))\n",
    "# data[2][1]"
   ]
  },
  {
   "cell_type": "markdown",
   "metadata": {},
   "source": [
    "I imported my ILI file as a 2D-array  - whaaaa whooo!"
   ]
  },
  {
   "cell_type": "markdown",
   "metadata": {},
   "source": [
    "# 20180718 Wednesday\n",
    "\n",
    "I should probably be using numpy or pandas instead of the csv module.\n",
    "\n",
    "Difference between a Matrix & an Array\n",
    "- Matrix is a math thing, array is a data thing\n",
    "- https://stackoverflow.com/questions/4151128/what-are-the-differences-between-numpy-arrays-and-matrices-which-one-should-i-u\n",
    "- https://www.scipy.org/scipylib/faq.html\n",
    "\n",
    "\n",
    "This is awesome!\n",
    "### Scientific Python Cheat Sheet\n",
    "https://ipgp.github.io/scientific_python_cheat_sheet/\n",
    "- Copyright for this article © 2016 Institut de Physique du Globe de Paris. This is an open access article distributed under the terms of the Creative Commons Attribution 4.0 License, Permits almost any use subject to providing credit and license notice.\n",
    "\n",
    "\n",
    "### What is the difference between numpy and pandas?\n",
    "\n",
    "#### Should I use pandas or numpy for data wrangling?\n",
    "- What are the advantages of using Pandas over Numpy for ML and Data Analysis\n",
    "    - https://www.quora.com/What-are-the-advantages-of-using-Pandas-over-Numpy-for-ML-and-Data-Analysis\n",
    "        1.  Having an R-style dataframe (with column names!) can help a lot in keeping track of your data.\n",
    "        2.  A numpy array requires homogeneous data.  With a pandas dataframe, you can have different data types (float, int, string, datetime, etc) all in one place\n",
    "        3.  Pandas has built in functionality for a lot of common data-processing applications: for example, easy group by syntax, easy joins (which are also really efficient in pandas), rolling windows\n",
    "        4.  Good IO capabilities; I frequently pull data from a MySQL database directly into a data frame\n",
    "        5.  With pandas, you can use patsy for R-style syntax in doing regressions, etc, referring to variables by column name\n",
    "        6. because your data has labels in pandas. It's the same reason you want to name your variables instead of calling them a,b,c,d,e,f....\n",
    "            - Pandas brings in table format with labeled columns, plus indexing on the rows, which everyone is familiar with. Want to apply an operation to a variable? Just call the label name for that variable, no need to remember which number column it was. Have a key that you can index the table on? Now you can search for duplicates, group by that key and aggregate, etc\n",
    "            - I always use pandas for everything, until I have to feed the data into another library that only works with numpy arrays. You use .values to call the underlying array and then transform the output back into a pandas DataFrame immediately so you only have to figure out what the labels should be once\n",
    "- Pandas and NumPy arrays explained\n",
    "    - This blog post covers the NumPy and pandas array data objects, main characteristics and differences.   \n",
    "    - https://medium.com/@ericvanrees/pandas-series-objects-and-numpy-arrays-15dfe05919d7\n",
    "- What is the relationship among NumPy, SciPy, Pandas, and Scikit-learn and when should I use each one of them?\n",
    "    - https://www.quora.com/What-is-the-relationship-among-NumPy-SciPy-Pandas-and-Scikit-learn-and-when-should-I-use-each-one-of-them\n",
    "    - Numpy. Adds Python support for large, multi-dimensional arrays and matrices, along with a large library of high-level mathematical functions to operate on these arrays.\n",
    "    - SciPy is a collection of mathematical algorithms and convenience functions built on the Numpy extension of Python. It adds significant power to the interactive Python session by providing the user with high-level commands and classes for manipulating and visualizing data.\n",
    "    - Pandas. Software library written for data manipulation and analysis in Python. Offers data structures and operations for manipulating numerical tables and time series.  \n",
    "    - Scikit-learn is a Python module for machine learning built on top of SciPy and distributed under the 3-Clause BSD license.\n",
    "    - __If you want to study machine learning then you need to know all of them.__\n",
    "- Performance of Python vs Pandas vs Numpy\n",
    "    - http://machinelearningexp.com/data-science-performance-of-python-vs-pandas-vs-numpy/\n",
    "    - See Graph & Notebook\n",
    "  \n",
    "\n",
    "\n",
    "### Python Libraries for Data Science \n",
    "- Top 15 Python Libraries for Data Science in 2017\n",
    "    - https://activewizards.com/blog/top-15-libraries-for-data-science-in-python/\n",
    "    - This is awesome!\n",
    "    - (good pictures!)\n",
    "\n",
    "### Learn beginners/int Pandas\n",
    "- Top 8 resources for learning data analysis with pandas\n",
    "    - https://www.dataschool.io/best-python-pandas-resources/\n",
    "- Pandas Cheat Sheet: Data Science and Data Wrangling in Python\n",
    "    - https://www.kdnuggets.com/2017/01/pandas-cheat-sheet.html\n",
    "- Pandas Tutorial: DataFrames in Python\n",
    "    - https://www.datacamp.com/community/tutorials/pandas-tutorial-dataframe-python\n"
   ]
  },
  {
   "cell_type": "markdown",
   "metadata": {},
   "source": [
    "# 20180719 Thursday\n",
    "\n",
    "Google \"Learn pandas\"\n",
    "- (don't forget to look above this list)\n",
    "- Eleven lessons posted in Jupyter notebooks from Hedaro\n",
    "    - https://bitbucket.org/hrojas/learn-pandas\n",
    "    - these look like great examples of real code with clear steps: Create Data, Get Data, Prepare Data, Analyze Data, Present Data \n",
    "    - e.g. Lesson 1: \"5 baby names and the number of births recorded for that year (1880).\" http://nbviewer.jupyter.org/urls/bitbucket.org/hrojas/learn-pandas/raw/master/lessons/01%20-%20Lesson.ipynb\n",
    "    - Lesson 2: \"1,000 baby names and the number of births recorded for that year (1880). We will also add plenty of duplicates so you will see the same baby name more than once. You can think of the multiple entries per name simply being different hospitals around the country reporting the number of births per baby name\"\n",
    "- How to Learn Pandas __Very good__\n",
    "    - Short version of article: https://www.reddit.com/r/learnpython/comments/79vixw/how_to_practice_pandas/dp5qjar/\n",
    "    - Long version of article: https://medium.com/dunder-data/how-to-learn-pandas-108905ab4955\n",
    "    - great article with tips on how to skim official documentation\n",
    "    - based on their recomendation, I read the NumPy User Guide from here\n",
    "        - https://docs.scipy.org/doc/\n",
    "        - pdf version with highlights & notes is in Mendeley/Programming/Python/NumPy\n",
    "        - Pandas documentation: http://pandas.pydata.org/pandas-docs/stable/\n",
    "- Pandas Basics\n",
    "    - https://www.learnpython.org/en/Pandas_Basics\n",
    "    - DataCamp's free tutorial\n",
    "        - DataFrames & Indexing DataFrames\n",
    "- Learn Pandas: Creation and Manipulation\n",
    "    - https://www.codecademy.com/learn/learn-pandas-introduction\n",
    "    - Create, load, select data w/Pandas\n",
    "    - Modifying DataFrames\n",
    "- 10 Minutes to Pandas (pandas 0.23.3 documentation)\n",
    "    - https://pandas.pydata.org/pandas-docs/stable/10min.html\n",
    "- Pandas: Short hands-on challenges to perfect your data manipulation skills\n",
    "    - https://www.kaggle.com/learn/pandas\n",
    "    - Free, 4 hours, 7 lessons\n",
    "- Python Pandas Tutorial\n",
    "    - https://www.tutorialspoint.com/python_pandas/\n",
    "    - has column addition (~page3)\n",
    "    - working with text data..\n",
    "- Pandas Tutorial: Data analysis with Python: Part 1\n",
    "    - https://www.dataquest.io/blog/pandas-python-tutorial/\n",
    "    - Python3.5 & Jupyter notebook\n",
    "    - read in data from csv\n",
    "    - Do games like the Witcher 3 tend to get better reviews on the PS4 than the Xbox One? This dataset can help us find out\n",
    "- Lynda Pandas courses\n",
    "    - https://www.lynda.com/Pandas-training-tutorials/7715-0.html\n",
    "    - 4 courses, 2-6 hours long\n",
    "- Pandas Learning Resources\n",
    "    - a personal list of tutorials, courses and books dedicated to pandas\n",
    "- Intro to Pandas: -1 : An absolute beginners guide to Machine Learning and Data science\n",
    "    - https://hackernoon.com/intro-to-pandas-1-an-absolute-beginners-guide-to-machine-learning-and-data-science-a1fed3a6f0f3\n",
    "    - I don't like the tone\n",
    "- Python pandas Q&A video series by Data School\n",
    "    - http://nbviewer.jupyter.org/github/justmarkham/pandas-videos/blob/master/pandas.ipynb\n",
    "\n",
    "    "
   ]
  },
  {
   "cell_type": "markdown",
   "metadata": {},
   "source": [
    "# 20180722 Sunday\n",
    "\n",
    "\n",
    "Coding StudyGroup\n",
    "\n",
    "Maybe I should watch Brandon Rhodes - Pandas From The Ground Up - PyCon 2015\n",
    "- https://www.youtube.com/watch?v=5JnMutdy6Fw\n",
    "- recommended by Chris Stehlik from My Sunday StudyGroup\n",
    "\n",
    "\n",
    "\n",
    "# 20180721 Monday\n",
    "\n",
    "Read Pandas documentation 0.23.3\n",
    "\n",
    "\n",
    "\n",
    "\n"
   ]
  },
  {
   "cell_type": "markdown",
   "metadata": {},
   "source": [
    "# 20180724 Tuesday\n",
    "\n",
    "Listen to Metis' Demistifying Data Science & walk to Noisebridge\n",
    "\n",
    "open and read in my .csv file"
   ]
  },
  {
   "cell_type": "code",
   "execution_count": 1,
   "metadata": {},
   "outputs": [],
   "source": [
    "import pandas as pd\n",
    "import numpy as np\n",
    "import matplotlib.pyplot as plt\n",
    "%matplotlib inline"
   ]
  },
  {
   "cell_type": "code",
   "execution_count": 2,
   "metadata": {},
   "outputs": [
    {
     "data": {
      "text/html": [
       "<div>\n",
       "<style scoped>\n",
       "    .dataframe tbody tr th:only-of-type {\n",
       "        vertical-align: middle;\n",
       "    }\n",
       "\n",
       "    .dataframe tbody tr th {\n",
       "        vertical-align: top;\n",
       "    }\n",
       "\n",
       "    .dataframe thead th {\n",
       "        text-align: right;\n",
       "    }\n",
       "</style>\n",
       "<table border=\"1\" class=\"dataframe\">\n",
       "  <thead>\n",
       "    <tr style=\"text-align: right;\">\n",
       "      <th></th>\n",
       "      <th></th>\n",
       "      <th></th>\n",
       "      <th></th>\n",
       "      <th></th>\n",
       "      <th></th>\n",
       "      <th></th>\n",
       "      <th></th>\n",
       "      <th></th>\n",
       "      <th></th>\n",
       "      <th></th>\n",
       "      <th></th>\n",
       "      <th></th>\n",
       "      <th></th>\n",
       "      <th>PERCENTAGE OF VISITS FOR INFLUENZA-LIKE-ILLNESS REPORTED BY SENTINEL PROVIDERS</th>\n",
       "    </tr>\n",
       "  </thead>\n",
       "  <tbody>\n",
       "    <tr>\n",
       "      <th>REGION TYPE</th>\n",
       "      <th>REGION</th>\n",
       "      <th>YEAR</th>\n",
       "      <th>WEEK</th>\n",
       "      <th>% WEIGHTED ILI</th>\n",
       "      <th>%UNWEIGHTED ILI</th>\n",
       "      <th>AGE 0-4</th>\n",
       "      <th>AGE 25-49</th>\n",
       "      <th>AGE 25-64</th>\n",
       "      <th>AGE 5-24</th>\n",
       "      <th>AGE 50-64</th>\n",
       "      <th>AGE 65</th>\n",
       "      <th>ILITOTAL</th>\n",
       "      <th>NUM. OF PROVIDERS</th>\n",
       "      <td>TOTAL PATIENTS</td>\n",
       "    </tr>\n",
       "    <tr>\n",
       "      <th rowspan=\"4\" valign=\"top\">National</th>\n",
       "      <th rowspan=\"4\" valign=\"top\">X</th>\n",
       "      <th rowspan=\"4\" valign=\"top\">1997</th>\n",
       "      <th>40</th>\n",
       "      <th>1.10148</th>\n",
       "      <th>1.21686</th>\n",
       "      <th>179</th>\n",
       "      <th>X</th>\n",
       "      <th>157</th>\n",
       "      <th>205</th>\n",
       "      <th>X</th>\n",
       "      <th>29</th>\n",
       "      <th>570</th>\n",
       "      <th>192</th>\n",
       "      <td>46842</td>\n",
       "    </tr>\n",
       "    <tr>\n",
       "      <th>41</th>\n",
       "      <th>1.20007</th>\n",
       "      <th>1.28064</th>\n",
       "      <th>199</th>\n",
       "      <th>X</th>\n",
       "      <th>151</th>\n",
       "      <th>242</th>\n",
       "      <th>X</th>\n",
       "      <th>23</th>\n",
       "      <th>615</th>\n",
       "      <th>191</th>\n",
       "      <td>48023</td>\n",
       "    </tr>\n",
       "    <tr>\n",
       "      <th>42</th>\n",
       "      <th>1.37876</th>\n",
       "      <th>1.23906</th>\n",
       "      <th>228</th>\n",
       "      <th>X</th>\n",
       "      <th>153</th>\n",
       "      <th>266</th>\n",
       "      <th>X</th>\n",
       "      <th>34</th>\n",
       "      <th>681</th>\n",
       "      <th>219</th>\n",
       "      <td>54961</td>\n",
       "    </tr>\n",
       "    <tr>\n",
       "      <th>43</th>\n",
       "      <th>1.1992</th>\n",
       "      <th>1.14473</th>\n",
       "      <th>188</th>\n",
       "      <th>X</th>\n",
       "      <th>193</th>\n",
       "      <th>236</th>\n",
       "      <th>X</th>\n",
       "      <th>36</th>\n",
       "      <th>653</th>\n",
       "      <th>213</th>\n",
       "      <td>57044</td>\n",
       "    </tr>\n",
       "  </tbody>\n",
       "</table>\n",
       "</div>"
      ],
      "text/plain": [
       "                                                                                                                                             PERCENTAGE OF VISITS FOR INFLUENZA-LIKE-ILLNESS REPORTED BY SENTINEL PROVIDERS\n",
       "REGION TYPE REGION YEAR WEEK % WEIGHTED ILI %UNWEIGHTED ILI AGE 0-4 AGE 25-49 AGE 25-64 AGE 5-24 AGE 50-64 AGE 65 ILITOTAL NUM. OF PROVIDERS                                     TOTAL PATIENTS                            \n",
       "National    X      1997 40   1.10148        1.21686         179     X         157       205      X         29     570      192                                                            46842                            \n",
       "                        41   1.20007        1.28064         199     X         151       242      X         23     615      191                                                            48023                            \n",
       "                        42   1.37876        1.23906         228     X         153       266      X         34     681      219                                                            54961                            \n",
       "                        43   1.1992         1.14473         188     X         193       236      X         36     653      213                                                            57044                            "
      ]
     },
     "execution_count": 2,
     "metadata": {},
     "output_type": "execute_result"
    }
   ],
   "source": [
    "# read my csv file into a dataframe using pandas\n",
    "ILIcsvDF = pd.read_csv('../../Data/CDCvirusILI/FluViewPhase2Data/ILINet.csv')\n",
    "# show first few entries\n",
    "ILIcsvDF.head()"
   ]
  },
  {
   "cell_type": "markdown",
   "metadata": {},
   "source": [
    "Next Action\n",
    "- list the column headers"
   ]
  },
  {
   "cell_type": "code",
   "execution_count": 6,
   "metadata": {},
   "outputs": [
    {
     "data": {
      "text/plain": [
       "['PERCENTAGE OF VISITS FOR INFLUENZA-LIKE-ILLNESS REPORTED BY SENTINEL PROVIDERS']"
      ]
     },
     "execution_count": 6,
     "metadata": {},
     "output_type": "execute_result"
    }
   ],
   "source": [
    "# long form of command\n",
    "list(ILIcsvDF.columns.values)"
   ]
  },
  {
   "cell_type": "code",
   "execution_count": 7,
   "metadata": {},
   "outputs": [
    {
     "data": {
      "text/plain": [
       "['PERCENTAGE OF VISITS FOR INFLUENZA-LIKE-ILLNESS REPORTED BY SENTINEL PROVIDERS']"
      ]
     },
     "execution_count": 7,
     "metadata": {},
     "output_type": "execute_result"
    }
   ],
   "source": [
    "# short form\n",
    "# use this command to list the column headers of a panda dataframe\n",
    "list(ILIcsvDF) "
   ]
  },
  {
   "cell_type": "markdown",
   "metadata": {},
   "source": [
    "Next Action\n",
    "- set the second line as the column headers"
   ]
  },
  {
   "cell_type": "code",
   "execution_count": 3,
   "metadata": {},
   "outputs": [
    {
     "data": {
      "text/html": [
       "<div>\n",
       "<style scoped>\n",
       "    .dataframe tbody tr th:only-of-type {\n",
       "        vertical-align: middle;\n",
       "    }\n",
       "\n",
       "    .dataframe tbody tr th {\n",
       "        vertical-align: top;\n",
       "    }\n",
       "\n",
       "    .dataframe thead th {\n",
       "        text-align: right;\n",
       "    }\n",
       "</style>\n",
       "<table border=\"1\" class=\"dataframe\">\n",
       "  <thead>\n",
       "    <tr style=\"text-align: right;\">\n",
       "      <th></th>\n",
       "      <th></th>\n",
       "      <th></th>\n",
       "      <th></th>\n",
       "      <th></th>\n",
       "      <th></th>\n",
       "      <th></th>\n",
       "      <th></th>\n",
       "      <th></th>\n",
       "      <th></th>\n",
       "      <th></th>\n",
       "      <th></th>\n",
       "      <th></th>\n",
       "      <th></th>\n",
       "      <th>PERCENTAGE OF VISITS FOR INFLUENZA-LIKE-ILLNESS REPORTED BY SENTINEL PROVIDERS</th>\n",
       "    </tr>\n",
       "  </thead>\n",
       "  <tbody>\n",
       "    <tr>\n",
       "      <th>REGION TYPE</th>\n",
       "      <th>REGION</th>\n",
       "      <th>YEAR</th>\n",
       "      <th>WEEK</th>\n",
       "      <th>% WEIGHTED ILI</th>\n",
       "      <th>%UNWEIGHTED ILI</th>\n",
       "      <th>AGE 0-4</th>\n",
       "      <th>AGE 25-49</th>\n",
       "      <th>AGE 25-64</th>\n",
       "      <th>AGE 5-24</th>\n",
       "      <th>AGE 50-64</th>\n",
       "      <th>AGE 65</th>\n",
       "      <th>ILITOTAL</th>\n",
       "      <th>NUM. OF PROVIDERS</th>\n",
       "      <td>TOTAL PATIENTS</td>\n",
       "    </tr>\n",
       "    <tr>\n",
       "      <th rowspan=\"4\" valign=\"top\">National</th>\n",
       "      <th rowspan=\"4\" valign=\"top\">X</th>\n",
       "      <th rowspan=\"4\" valign=\"top\">1997</th>\n",
       "      <th>40</th>\n",
       "      <th>1.10148</th>\n",
       "      <th>1.21686</th>\n",
       "      <th>179</th>\n",
       "      <th>X</th>\n",
       "      <th>157</th>\n",
       "      <th>205</th>\n",
       "      <th>X</th>\n",
       "      <th>29</th>\n",
       "      <th>570</th>\n",
       "      <th>192</th>\n",
       "      <td>46842</td>\n",
       "    </tr>\n",
       "    <tr>\n",
       "      <th>41</th>\n",
       "      <th>1.20007</th>\n",
       "      <th>1.28064</th>\n",
       "      <th>199</th>\n",
       "      <th>X</th>\n",
       "      <th>151</th>\n",
       "      <th>242</th>\n",
       "      <th>X</th>\n",
       "      <th>23</th>\n",
       "      <th>615</th>\n",
       "      <th>191</th>\n",
       "      <td>48023</td>\n",
       "    </tr>\n",
       "    <tr>\n",
       "      <th>42</th>\n",
       "      <th>1.37876</th>\n",
       "      <th>1.23906</th>\n",
       "      <th>228</th>\n",
       "      <th>X</th>\n",
       "      <th>153</th>\n",
       "      <th>266</th>\n",
       "      <th>X</th>\n",
       "      <th>34</th>\n",
       "      <th>681</th>\n",
       "      <th>219</th>\n",
       "      <td>54961</td>\n",
       "    </tr>\n",
       "    <tr>\n",
       "      <th>43</th>\n",
       "      <th>1.1992</th>\n",
       "      <th>1.14473</th>\n",
       "      <th>188</th>\n",
       "      <th>X</th>\n",
       "      <th>193</th>\n",
       "      <th>236</th>\n",
       "      <th>X</th>\n",
       "      <th>36</th>\n",
       "      <th>653</th>\n",
       "      <th>213</th>\n",
       "      <td>57044</td>\n",
       "    </tr>\n",
       "  </tbody>\n",
       "</table>\n",
       "</div>"
      ],
      "text/plain": [
       "                                                                                                                                             PERCENTAGE OF VISITS FOR INFLUENZA-LIKE-ILLNESS REPORTED BY SENTINEL PROVIDERS\n",
       "REGION TYPE REGION YEAR WEEK % WEIGHTED ILI %UNWEIGHTED ILI AGE 0-4 AGE 25-49 AGE 25-64 AGE 5-24 AGE 50-64 AGE 65 ILITOTAL NUM. OF PROVIDERS                                     TOTAL PATIENTS                            \n",
       "National    X      1997 40   1.10148        1.21686         179     X         157       205      X         29     570      192                                                            46842                            \n",
       "                        41   1.20007        1.28064         199     X         151       242      X         23     615      191                                                            48023                            \n",
       "                        42   1.37876        1.23906         228     X         153       266      X         34     681      219                                                            54961                            \n",
       "                        43   1.1992         1.14473         188     X         193       236      X         36     653      213                                                            57044                            "
      ]
     },
     "execution_count": 3,
     "metadata": {},
     "output_type": "execute_result"
    }
   ],
   "source": [
    "# read my ILINet.csv file into a dataframe using pandas\n",
    "# Explicitly pass header=<row index number> to be able to replace existing names\n",
    "ILIcsvDF2 = pd.read_csv('../../Data/CDCvirusILI/FluViewPhase2Data/ILINet.csv', header=1)\n",
    "# show first few entries\n",
    "ILIcsvDF2.head()"
   ]
  },
  {
   "cell_type": "markdown",
   "metadata": {},
   "source": [
    "hum, the top row still shows up, but is my second row now the column headers? (Yes! see below)\n",
    "- the top row still showed up because I had a typo \"...DF\" instead of \"...DF2\""
   ]
  },
  {
   "cell_type": "code",
   "execution_count": 8,
   "metadata": {},
   "outputs": [
    {
     "data": {
      "text/plain": [
       "['REGION TYPE',\n",
       " 'REGION',\n",
       " 'YEAR',\n",
       " 'WEEK',\n",
       " '% WEIGHTED ILI',\n",
       " '%UNWEIGHTED ILI',\n",
       " 'AGE 0-4',\n",
       " 'AGE 25-49',\n",
       " 'AGE 25-64',\n",
       " 'AGE 5-24',\n",
       " 'AGE 50-64',\n",
       " 'AGE 65',\n",
       " 'ILITOTAL',\n",
       " 'NUM. OF PROVIDERS',\n",
       " 'TOTAL PATIENTS']"
      ]
     },
     "execution_count": 8,
     "metadata": {},
     "output_type": "execute_result"
    }
   ],
   "source": [
    "list(ILIcsvDF2)"
   ]
  },
  {
   "cell_type": "markdown",
   "metadata": {},
   "source": [
    "#### Data to employ:\n",
    "- I will be using the '%UNWEIGHTED ILI' for y-axis values. It is equal to 'ILITOTAL'/ 'TOTAL PATIENTS'\n",
    "- 'YEAR' and 'WEEK' will be used for the x-axis\n"
   ]
  },
  {
   "cell_type": "markdown",
   "metadata": {},
   "source": [
    "There are many ways to list the column headers and each takes a different amount of microseconds:\n",
    "https://stackoverflow.com/questions/19482970/get-list-from-pandas-dataframe-column-headers \n",
    "\n",
    "In [1]: %timeit [column for column in df]\n",
    "1000 loops, best of 3: 81.6 µs per loop\n",
    "\n",
    "In [2]: %timeit df.columns.values.tolist()\n",
    "10000 loops, best of 3: 16.1 µs per loop\n",
    "\n",
    "In [3]: %timeit list(df)\n",
    "10000 loops, best of 3: 44.9 µs per loop\n",
    "\n",
    "In [4]: % timeit list(df.columns.values)\n",
    "10000 loops, best of 3: 38.4 µs per loop"
   ]
  },
  {
   "cell_type": "markdown",
   "metadata": {},
   "source": [
    "#### Next Action\n",
    "- create a new column \"PortionOfYear\" that holds the solution from dividing the value in column \"WEEK\" by 53\n",
    "- create a new column \"YearWPortion\" that adds the integer column \"YEAR\" + the integer in column \"YearWPortion\"\n",
    "- be sure to ignore the first line of the file & don't process the header row"
   ]
  },
  {
   "cell_type": "code",
   "execution_count": null,
   "metadata": {},
   "outputs": [],
   "source": [
    "# ILIcsvDF2[\"PortionOfYear\"] = ILIcsvDF2[\"WEEK\"] / 53\n",
    "# ILIcsvDF2.head()"
   ]
  },
  {
   "cell_type": "markdown",
   "metadata": {},
   "source": [
    "- Uh oh, do I need to convert the values in column 'week' to integers? Or will pandas infer the type? I can ask what the type is...\n",
    "- Before I mess around with this, I think I want to create a new dataframe without the first row. \n",
    "    - Googled \"delete a row from a dataframe pandas\"\n",
    "    - 3rd hit was pandas documentation, so I searched that for \"remove rows\" and found it in chapter 34, which falls in a section called \"API Reference\". I'm not sure what this is about, a quick skim through the Table of Contents indicates that it re-hashs things from earlier chapters\n",
    "    - search pandas documentation for \"dataframe\" and scroll through the TOC... bored, back to my project"
   ]
  },
  {
   "cell_type": "code",
   "execution_count": 13,
   "metadata": {},
   "outputs": [
    {
     "data": {
      "text/html": [
       "<div>\n",
       "<style scoped>\n",
       "    .dataframe tbody tr th:only-of-type {\n",
       "        vertical-align: middle;\n",
       "    }\n",
       "\n",
       "    .dataframe tbody tr th {\n",
       "        vertical-align: top;\n",
       "    }\n",
       "\n",
       "    .dataframe thead th {\n",
       "        text-align: right;\n",
       "    }\n",
       "</style>\n",
       "<table border=\"1\" class=\"dataframe\">\n",
       "  <thead>\n",
       "    <tr style=\"text-align: right;\">\n",
       "      <th></th>\n",
       "      <th>REGION TYPE</th>\n",
       "      <th>REGION</th>\n",
       "      <th>YEAR</th>\n",
       "      <th>WEEK</th>\n",
       "      <th>% WEIGHTED ILI</th>\n",
       "      <th>%UNWEIGHTED ILI</th>\n",
       "      <th>AGE 0-4</th>\n",
       "      <th>AGE 25-49</th>\n",
       "      <th>AGE 25-64</th>\n",
       "      <th>AGE 5-24</th>\n",
       "      <th>AGE 50-64</th>\n",
       "      <th>AGE 65</th>\n",
       "      <th>ILITOTAL</th>\n",
       "      <th>NUM. OF PROVIDERS</th>\n",
       "      <th>TOTAL PATIENTS</th>\n",
       "    </tr>\n",
       "  </thead>\n",
       "  <tbody>\n",
       "    <tr>\n",
       "      <th>0</th>\n",
       "      <td>National</td>\n",
       "      <td>X</td>\n",
       "      <td>1997</td>\n",
       "      <td>40</td>\n",
       "      <td>1.10148</td>\n",
       "      <td>1.21686</td>\n",
       "      <td>179</td>\n",
       "      <td>X</td>\n",
       "      <td>157</td>\n",
       "      <td>205</td>\n",
       "      <td>X</td>\n",
       "      <td>29</td>\n",
       "      <td>570</td>\n",
       "      <td>192</td>\n",
       "      <td>46842</td>\n",
       "    </tr>\n",
       "    <tr>\n",
       "      <th>1</th>\n",
       "      <td>National</td>\n",
       "      <td>X</td>\n",
       "      <td>1997</td>\n",
       "      <td>41</td>\n",
       "      <td>1.20007</td>\n",
       "      <td>1.28064</td>\n",
       "      <td>199</td>\n",
       "      <td>X</td>\n",
       "      <td>151</td>\n",
       "      <td>242</td>\n",
       "      <td>X</td>\n",
       "      <td>23</td>\n",
       "      <td>615</td>\n",
       "      <td>191</td>\n",
       "      <td>48023</td>\n",
       "    </tr>\n",
       "    <tr>\n",
       "      <th>2</th>\n",
       "      <td>National</td>\n",
       "      <td>X</td>\n",
       "      <td>1997</td>\n",
       "      <td>42</td>\n",
       "      <td>1.37876</td>\n",
       "      <td>1.23906</td>\n",
       "      <td>228</td>\n",
       "      <td>X</td>\n",
       "      <td>153</td>\n",
       "      <td>266</td>\n",
       "      <td>X</td>\n",
       "      <td>34</td>\n",
       "      <td>681</td>\n",
       "      <td>219</td>\n",
       "      <td>54961</td>\n",
       "    </tr>\n",
       "    <tr>\n",
       "      <th>3</th>\n",
       "      <td>National</td>\n",
       "      <td>X</td>\n",
       "      <td>1997</td>\n",
       "      <td>43</td>\n",
       "      <td>1.19920</td>\n",
       "      <td>1.14473</td>\n",
       "      <td>188</td>\n",
       "      <td>X</td>\n",
       "      <td>193</td>\n",
       "      <td>236</td>\n",
       "      <td>X</td>\n",
       "      <td>36</td>\n",
       "      <td>653</td>\n",
       "      <td>213</td>\n",
       "      <td>57044</td>\n",
       "    </tr>\n",
       "    <tr>\n",
       "      <th>4</th>\n",
       "      <td>National</td>\n",
       "      <td>X</td>\n",
       "      <td>1997</td>\n",
       "      <td>44</td>\n",
       "      <td>1.65618</td>\n",
       "      <td>1.26112</td>\n",
       "      <td>217</td>\n",
       "      <td>X</td>\n",
       "      <td>162</td>\n",
       "      <td>280</td>\n",
       "      <td>X</td>\n",
       "      <td>41</td>\n",
       "      <td>700</td>\n",
       "      <td>213</td>\n",
       "      <td>55506</td>\n",
       "    </tr>\n",
       "  </tbody>\n",
       "</table>\n",
       "</div>"
      ],
      "text/plain": [
       "  REGION TYPE REGION  YEAR  WEEK  % WEIGHTED ILI  %UNWEIGHTED ILI  AGE 0-4  \\\n",
       "0    National      X  1997    40         1.10148          1.21686      179   \n",
       "1    National      X  1997    41         1.20007          1.28064      199   \n",
       "2    National      X  1997    42         1.37876          1.23906      228   \n",
       "3    National      X  1997    43         1.19920          1.14473      188   \n",
       "4    National      X  1997    44         1.65618          1.26112      217   \n",
       "\n",
       "  AGE 25-49 AGE 25-64  AGE 5-24 AGE 50-64  AGE 65  ILITOTAL  \\\n",
       "0         X       157       205         X      29       570   \n",
       "1         X       151       242         X      23       615   \n",
       "2         X       153       266         X      34       681   \n",
       "3         X       193       236         X      36       653   \n",
       "4         X       162       280         X      41       700   \n",
       "\n",
       "   NUM. OF PROVIDERS  TOTAL PATIENTS  \n",
       "0                192           46842  \n",
       "1                191           48023  \n",
       "2                219           54961  \n",
       "3                213           57044  \n",
       "4                213           55506  "
      ]
     },
     "execution_count": 13,
     "metadata": {},
     "output_type": "execute_result"
    }
   ],
   "source": [
    "ILIcsvDF2.drop(index=0)\n",
    "# without the cmd below, the 1st and last 30 rows print below\n",
    "ILIcsvDF2.head()"
   ]
  },
  {
   "cell_type": "markdown",
   "metadata": {},
   "source": [
    "Note \n",
    "- The index numbers start with the first row of data, not the column headers.\n",
    "\n",
    "- Interesetingly, index numbers were not displayed in previous views. In this view (above) \"Region Type\", \"Region\" and \"year\" are also shown for each row (different from before).\n",
    "\n",
    "\n",
    "- At this point, I have not saved a new file. Is this file big enough that I should export the values in my dataframe, after my performed actions, to a new .csv file before I end for the day? It's probably not a big enough file to worry about this now, but once I bring together all the code to munge the data and I move on to graphing it in different ways, I should save a munged .csv file. "
   ]
  },
  {
   "cell_type": "markdown",
   "metadata": {},
   "source": [
    "how do I determine the type?\n",
    "- Google \"determine the type of value within a dataframe pandas\"\n",
    "    - 4th hit is the documentation\n",
    "    - search documentation for \"DataFrame.describe\" & read\n",
    "    - this returns a summary of statistics, not what I want!\n",
    "- Google \"determine the dtype of an element within a dataframe pandas\"\n",
    "    - click on stackoverflow link & within it click on link for dtypes\n",
    "    - series.dtype returns the dtype object of the underlying data\n",
    "- I only want the type of the elements in column \"WEEK\" and \"YEAR\"\n"
   ]
  },
  {
   "cell_type": "code",
   "execution_count": 16,
   "metadata": {},
   "outputs": [
    {
     "ename": "AttributeError",
     "evalue": "'DataFrame' object has no attribute 'dtype'",
     "output_type": "error",
     "traceback": [
      "\u001b[0;31m---------------------------------------------------------------------------\u001b[0m",
      "\u001b[0;31mAttributeError\u001b[0m                            Traceback (most recent call last)",
      "\u001b[0;32m<ipython-input-16-ca083bb6def4>\u001b[0m in \u001b[0;36m<module>\u001b[0;34m()\u001b[0m\n\u001b[0;32m----> 1\u001b[0;31m \u001b[0mILIcsvDF2\u001b[0m\u001b[0;34m.\u001b[0m\u001b[0mdtype\u001b[0m\u001b[0;34m\u001b[0m\u001b[0m\n\u001b[0m",
      "\u001b[0;32m/anaconda3/lib/python3.6/site-packages/pandas/core/generic.py\u001b[0m in \u001b[0;36m__getattr__\u001b[0;34m(self, name)\u001b[0m\n\u001b[1;32m   4370\u001b[0m             \u001b[0;32mif\u001b[0m \u001b[0mself\u001b[0m\u001b[0;34m.\u001b[0m\u001b[0m_info_axis\u001b[0m\u001b[0;34m.\u001b[0m\u001b[0m_can_hold_identifiers_and_holds_name\u001b[0m\u001b[0;34m(\u001b[0m\u001b[0mname\u001b[0m\u001b[0;34m)\u001b[0m\u001b[0;34m:\u001b[0m\u001b[0;34m\u001b[0m\u001b[0m\n\u001b[1;32m   4371\u001b[0m                 \u001b[0;32mreturn\u001b[0m \u001b[0mself\u001b[0m\u001b[0;34m[\u001b[0m\u001b[0mname\u001b[0m\u001b[0;34m]\u001b[0m\u001b[0;34m\u001b[0m\u001b[0m\n\u001b[0;32m-> 4372\u001b[0;31m             \u001b[0;32mreturn\u001b[0m \u001b[0mobject\u001b[0m\u001b[0;34m.\u001b[0m\u001b[0m__getattribute__\u001b[0m\u001b[0;34m(\u001b[0m\u001b[0mself\u001b[0m\u001b[0;34m,\u001b[0m \u001b[0mname\u001b[0m\u001b[0;34m)\u001b[0m\u001b[0;34m\u001b[0m\u001b[0m\n\u001b[0m\u001b[1;32m   4373\u001b[0m \u001b[0;34m\u001b[0m\u001b[0m\n\u001b[1;32m   4374\u001b[0m     \u001b[0;32mdef\u001b[0m \u001b[0m__setattr__\u001b[0m\u001b[0;34m(\u001b[0m\u001b[0mself\u001b[0m\u001b[0;34m,\u001b[0m \u001b[0mname\u001b[0m\u001b[0;34m,\u001b[0m \u001b[0mvalue\u001b[0m\u001b[0;34m)\u001b[0m\u001b[0;34m:\u001b[0m\u001b[0;34m\u001b[0m\u001b[0m\n",
      "\u001b[0;31mAttributeError\u001b[0m: 'DataFrame' object has no attribute 'dtype'"
     ]
    }
   ],
   "source": [
    "ILIcsvDF2.dtype"
   ]
  },
  {
   "cell_type": "markdown",
   "metadata": {},
   "source": [
    "Argh! \n",
    "- look further down google hits\n",
    "- Open new tabs for hits that look like they might be relevant\n",
    "    - Data Analysis with Pandas\n",
    "        - https://khashtamov.com/en/pandas-data-analysis/ \n",
    "    - Overview of Pandas Data Types - Practical Business Python\n",
    "        - http://pbpython.com/pandas_dtypes.html "
   ]
  },
  {
   "cell_type": "code",
   "execution_count": 17,
   "metadata": {},
   "outputs": [
    {
     "data": {
      "text/plain": [
       "0    1997\n",
       "1    1997\n",
       "2    1997\n",
       "3    1997\n",
       "4    1997\n",
       "Name: YEAR, dtype: int64"
      ]
     },
     "execution_count": 17,
     "metadata": {},
     "output_type": "execute_result"
    }
   ],
   "source": [
    "ILIcsvDF2['YEAR'].head()"
   ]
  },
  {
   "cell_type": "markdown",
   "metadata": {},
   "source": [
    "YAY! \n",
    "\n",
    "from second tab opened (see above)\n",
    "- Doh! I just needed a plural \"s\" because series are single and dataframes are multiples\n",
    "\n"
   ]
  },
  {
   "cell_type": "code",
   "execution_count": 18,
   "metadata": {},
   "outputs": [
    {
     "data": {
      "text/plain": [
       "REGION TYPE           object\n",
       "REGION                object\n",
       "YEAR                   int64\n",
       "WEEK                   int64\n",
       "% WEIGHTED ILI       float64\n",
       "%UNWEIGHTED ILI      float64\n",
       "AGE 0-4                int64\n",
       "AGE 25-49             object\n",
       "AGE 25-64             object\n",
       "AGE 5-24               int64\n",
       "AGE 50-64             object\n",
       "AGE 65                 int64\n",
       "ILITOTAL               int64\n",
       "NUM. OF PROVIDERS      int64\n",
       "TOTAL PATIENTS         int64\n",
       "dtype: object"
      ]
     },
     "execution_count": 18,
     "metadata": {},
     "output_type": "execute_result"
    }
   ],
   "source": [
    "ILIcsvDF2.dtypes"
   ]
  },
  {
   "cell_type": "markdown",
   "metadata": {},
   "source": [
    "YEAR and WEEK are integers - YAY\n",
    "\n",
    "What next?\n",
    "\n",
    "Next Action\n",
    "- divide week by 53"
   ]
  },
  {
   "cell_type": "code",
   "execution_count": 19,
   "metadata": {},
   "outputs": [
    {
     "data": {
      "text/html": [
       "<div>\n",
       "<style scoped>\n",
       "    .dataframe tbody tr th:only-of-type {\n",
       "        vertical-align: middle;\n",
       "    }\n",
       "\n",
       "    .dataframe tbody tr th {\n",
       "        vertical-align: top;\n",
       "    }\n",
       "\n",
       "    .dataframe thead th {\n",
       "        text-align: right;\n",
       "    }\n",
       "</style>\n",
       "<table border=\"1\" class=\"dataframe\">\n",
       "  <thead>\n",
       "    <tr style=\"text-align: right;\">\n",
       "      <th></th>\n",
       "      <th>REGION TYPE</th>\n",
       "      <th>REGION</th>\n",
       "      <th>YEAR</th>\n",
       "      <th>WEEK</th>\n",
       "      <th>% WEIGHTED ILI</th>\n",
       "      <th>%UNWEIGHTED ILI</th>\n",
       "      <th>AGE 0-4</th>\n",
       "      <th>AGE 25-49</th>\n",
       "      <th>AGE 25-64</th>\n",
       "      <th>AGE 5-24</th>\n",
       "      <th>AGE 50-64</th>\n",
       "      <th>AGE 65</th>\n",
       "      <th>ILITOTAL</th>\n",
       "      <th>NUM. OF PROVIDERS</th>\n",
       "      <th>TOTAL PATIENTS</th>\n",
       "      <th>PortionOfYear</th>\n",
       "    </tr>\n",
       "  </thead>\n",
       "  <tbody>\n",
       "    <tr>\n",
       "      <th>0</th>\n",
       "      <td>National</td>\n",
       "      <td>X</td>\n",
       "      <td>1997</td>\n",
       "      <td>40</td>\n",
       "      <td>1.10148</td>\n",
       "      <td>1.21686</td>\n",
       "      <td>179</td>\n",
       "      <td>X</td>\n",
       "      <td>157</td>\n",
       "      <td>205</td>\n",
       "      <td>X</td>\n",
       "      <td>29</td>\n",
       "      <td>570</td>\n",
       "      <td>192</td>\n",
       "      <td>46842</td>\n",
       "      <td>0.754717</td>\n",
       "    </tr>\n",
       "    <tr>\n",
       "      <th>1</th>\n",
       "      <td>National</td>\n",
       "      <td>X</td>\n",
       "      <td>1997</td>\n",
       "      <td>41</td>\n",
       "      <td>1.20007</td>\n",
       "      <td>1.28064</td>\n",
       "      <td>199</td>\n",
       "      <td>X</td>\n",
       "      <td>151</td>\n",
       "      <td>242</td>\n",
       "      <td>X</td>\n",
       "      <td>23</td>\n",
       "      <td>615</td>\n",
       "      <td>191</td>\n",
       "      <td>48023</td>\n",
       "      <td>0.773585</td>\n",
       "    </tr>\n",
       "    <tr>\n",
       "      <th>2</th>\n",
       "      <td>National</td>\n",
       "      <td>X</td>\n",
       "      <td>1997</td>\n",
       "      <td>42</td>\n",
       "      <td>1.37876</td>\n",
       "      <td>1.23906</td>\n",
       "      <td>228</td>\n",
       "      <td>X</td>\n",
       "      <td>153</td>\n",
       "      <td>266</td>\n",
       "      <td>X</td>\n",
       "      <td>34</td>\n",
       "      <td>681</td>\n",
       "      <td>219</td>\n",
       "      <td>54961</td>\n",
       "      <td>0.792453</td>\n",
       "    </tr>\n",
       "    <tr>\n",
       "      <th>3</th>\n",
       "      <td>National</td>\n",
       "      <td>X</td>\n",
       "      <td>1997</td>\n",
       "      <td>43</td>\n",
       "      <td>1.19920</td>\n",
       "      <td>1.14473</td>\n",
       "      <td>188</td>\n",
       "      <td>X</td>\n",
       "      <td>193</td>\n",
       "      <td>236</td>\n",
       "      <td>X</td>\n",
       "      <td>36</td>\n",
       "      <td>653</td>\n",
       "      <td>213</td>\n",
       "      <td>57044</td>\n",
       "      <td>0.811321</td>\n",
       "    </tr>\n",
       "    <tr>\n",
       "      <th>4</th>\n",
       "      <td>National</td>\n",
       "      <td>X</td>\n",
       "      <td>1997</td>\n",
       "      <td>44</td>\n",
       "      <td>1.65618</td>\n",
       "      <td>1.26112</td>\n",
       "      <td>217</td>\n",
       "      <td>X</td>\n",
       "      <td>162</td>\n",
       "      <td>280</td>\n",
       "      <td>X</td>\n",
       "      <td>41</td>\n",
       "      <td>700</td>\n",
       "      <td>213</td>\n",
       "      <td>55506</td>\n",
       "      <td>0.830189</td>\n",
       "    </tr>\n",
       "  </tbody>\n",
       "</table>\n",
       "</div>"
      ],
      "text/plain": [
       "  REGION TYPE REGION  YEAR  WEEK  % WEIGHTED ILI  %UNWEIGHTED ILI  AGE 0-4  \\\n",
       "0    National      X  1997    40         1.10148          1.21686      179   \n",
       "1    National      X  1997    41         1.20007          1.28064      199   \n",
       "2    National      X  1997    42         1.37876          1.23906      228   \n",
       "3    National      X  1997    43         1.19920          1.14473      188   \n",
       "4    National      X  1997    44         1.65618          1.26112      217   \n",
       "\n",
       "  AGE 25-49 AGE 25-64  AGE 5-24 AGE 50-64  AGE 65  ILITOTAL  \\\n",
       "0         X       157       205         X      29       570   \n",
       "1         X       151       242         X      23       615   \n",
       "2         X       153       266         X      34       681   \n",
       "3         X       193       236         X      36       653   \n",
       "4         X       162       280         X      41       700   \n",
       "\n",
       "   NUM. OF PROVIDERS  TOTAL PATIENTS  PortionOfYear  \n",
       "0                192           46842       0.754717  \n",
       "1                191           48023       0.773585  \n",
       "2                219           54961       0.792453  \n",
       "3                213           57044       0.811321  \n",
       "4                213           55506       0.830189  "
      ]
     },
     "execution_count": 19,
     "metadata": {},
     "output_type": "execute_result"
    }
   ],
   "source": [
    "ILIcsvDF2[\"PortionOfYear\"] = ILIcsvDF2[\"WEEK\"] / 53\n",
    "ILIcsvDF2.head()"
   ]
  },
  {
   "cell_type": "markdown",
   "metadata": {},
   "source": [
    "- create a new column \"YearWPortion\" that adds the integer column \"YEAR\" + the integer in column \"YearWPortion\""
   ]
  },
  {
   "cell_type": "code",
   "execution_count": 20,
   "metadata": {},
   "outputs": [
    {
     "data": {
      "text/html": [
       "<div>\n",
       "<style scoped>\n",
       "    .dataframe tbody tr th:only-of-type {\n",
       "        vertical-align: middle;\n",
       "    }\n",
       "\n",
       "    .dataframe tbody tr th {\n",
       "        vertical-align: top;\n",
       "    }\n",
       "\n",
       "    .dataframe thead th {\n",
       "        text-align: right;\n",
       "    }\n",
       "</style>\n",
       "<table border=\"1\" class=\"dataframe\">\n",
       "  <thead>\n",
       "    <tr style=\"text-align: right;\">\n",
       "      <th></th>\n",
       "      <th>REGION TYPE</th>\n",
       "      <th>REGION</th>\n",
       "      <th>YEAR</th>\n",
       "      <th>WEEK</th>\n",
       "      <th>% WEIGHTED ILI</th>\n",
       "      <th>%UNWEIGHTED ILI</th>\n",
       "      <th>AGE 0-4</th>\n",
       "      <th>AGE 25-49</th>\n",
       "      <th>AGE 25-64</th>\n",
       "      <th>AGE 5-24</th>\n",
       "      <th>AGE 50-64</th>\n",
       "      <th>AGE 65</th>\n",
       "      <th>ILITOTAL</th>\n",
       "      <th>NUM. OF PROVIDERS</th>\n",
       "      <th>TOTAL PATIENTS</th>\n",
       "      <th>PortionOfYear</th>\n",
       "      <th>YearWPortion</th>\n",
       "    </tr>\n",
       "  </thead>\n",
       "  <tbody>\n",
       "    <tr>\n",
       "      <th>0</th>\n",
       "      <td>National</td>\n",
       "      <td>X</td>\n",
       "      <td>1997</td>\n",
       "      <td>40</td>\n",
       "      <td>1.10148</td>\n",
       "      <td>1.21686</td>\n",
       "      <td>179</td>\n",
       "      <td>X</td>\n",
       "      <td>157</td>\n",
       "      <td>205</td>\n",
       "      <td>X</td>\n",
       "      <td>29</td>\n",
       "      <td>570</td>\n",
       "      <td>192</td>\n",
       "      <td>46842</td>\n",
       "      <td>0.754717</td>\n",
       "      <td>1997.754717</td>\n",
       "    </tr>\n",
       "    <tr>\n",
       "      <th>1</th>\n",
       "      <td>National</td>\n",
       "      <td>X</td>\n",
       "      <td>1997</td>\n",
       "      <td>41</td>\n",
       "      <td>1.20007</td>\n",
       "      <td>1.28064</td>\n",
       "      <td>199</td>\n",
       "      <td>X</td>\n",
       "      <td>151</td>\n",
       "      <td>242</td>\n",
       "      <td>X</td>\n",
       "      <td>23</td>\n",
       "      <td>615</td>\n",
       "      <td>191</td>\n",
       "      <td>48023</td>\n",
       "      <td>0.773585</td>\n",
       "      <td>1997.773585</td>\n",
       "    </tr>\n",
       "    <tr>\n",
       "      <th>2</th>\n",
       "      <td>National</td>\n",
       "      <td>X</td>\n",
       "      <td>1997</td>\n",
       "      <td>42</td>\n",
       "      <td>1.37876</td>\n",
       "      <td>1.23906</td>\n",
       "      <td>228</td>\n",
       "      <td>X</td>\n",
       "      <td>153</td>\n",
       "      <td>266</td>\n",
       "      <td>X</td>\n",
       "      <td>34</td>\n",
       "      <td>681</td>\n",
       "      <td>219</td>\n",
       "      <td>54961</td>\n",
       "      <td>0.792453</td>\n",
       "      <td>1997.792453</td>\n",
       "    </tr>\n",
       "    <tr>\n",
       "      <th>3</th>\n",
       "      <td>National</td>\n",
       "      <td>X</td>\n",
       "      <td>1997</td>\n",
       "      <td>43</td>\n",
       "      <td>1.19920</td>\n",
       "      <td>1.14473</td>\n",
       "      <td>188</td>\n",
       "      <td>X</td>\n",
       "      <td>193</td>\n",
       "      <td>236</td>\n",
       "      <td>X</td>\n",
       "      <td>36</td>\n",
       "      <td>653</td>\n",
       "      <td>213</td>\n",
       "      <td>57044</td>\n",
       "      <td>0.811321</td>\n",
       "      <td>1997.811321</td>\n",
       "    </tr>\n",
       "    <tr>\n",
       "      <th>4</th>\n",
       "      <td>National</td>\n",
       "      <td>X</td>\n",
       "      <td>1997</td>\n",
       "      <td>44</td>\n",
       "      <td>1.65618</td>\n",
       "      <td>1.26112</td>\n",
       "      <td>217</td>\n",
       "      <td>X</td>\n",
       "      <td>162</td>\n",
       "      <td>280</td>\n",
       "      <td>X</td>\n",
       "      <td>41</td>\n",
       "      <td>700</td>\n",
       "      <td>213</td>\n",
       "      <td>55506</td>\n",
       "      <td>0.830189</td>\n",
       "      <td>1997.830189</td>\n",
       "    </tr>\n",
       "  </tbody>\n",
       "</table>\n",
       "</div>"
      ],
      "text/plain": [
       "  REGION TYPE REGION  YEAR  WEEK  % WEIGHTED ILI  %UNWEIGHTED ILI  AGE 0-4  \\\n",
       "0    National      X  1997    40         1.10148          1.21686      179   \n",
       "1    National      X  1997    41         1.20007          1.28064      199   \n",
       "2    National      X  1997    42         1.37876          1.23906      228   \n",
       "3    National      X  1997    43         1.19920          1.14473      188   \n",
       "4    National      X  1997    44         1.65618          1.26112      217   \n",
       "\n",
       "  AGE 25-49 AGE 25-64  AGE 5-24 AGE 50-64  AGE 65  ILITOTAL  \\\n",
       "0         X       157       205         X      29       570   \n",
       "1         X       151       242         X      23       615   \n",
       "2         X       153       266         X      34       681   \n",
       "3         X       193       236         X      36       653   \n",
       "4         X       162       280         X      41       700   \n",
       "\n",
       "   NUM. OF PROVIDERS  TOTAL PATIENTS  PortionOfYear  YearWPortion  \n",
       "0                192           46842       0.754717   1997.754717  \n",
       "1                191           48023       0.773585   1997.773585  \n",
       "2                219           54961       0.792453   1997.792453  \n",
       "3                213           57044       0.811321   1997.811321  \n",
       "4                213           55506       0.830189   1997.830189  "
      ]
     },
     "execution_count": 20,
     "metadata": {},
     "output_type": "execute_result"
    }
   ],
   "source": [
    "ILIcsvDF2[\"YearWPortion\"] = ILIcsvDF2[\"YEAR\"] + ILIcsvDF2[\"PortionOfYear\"]\n",
    "ILIcsvDF2.head()"
   ]
  },
  {
   "cell_type": "markdown",
   "metadata": {},
   "source": [
    "YAY!!! \n",
    "\n",
    "Next Action\n",
    "- graph x-axis = \"YearWPortion\", y-axis = \"%UNWEIGHTED ILI\"\n",
    "- do I need to take the space out of the column header? "
   ]
  },
  {
   "cell_type": "code",
   "execution_count": null,
   "metadata": {},
   "outputs": [],
   "source": []
  },
  {
   "cell_type": "code",
   "execution_count": null,
   "metadata": {},
   "outputs": [],
   "source": []
  },
  {
   "cell_type": "code",
   "execution_count": null,
   "metadata": {},
   "outputs": [],
   "source": []
  },
  {
   "cell_type": "code",
   "execution_count": null,
   "metadata": {},
   "outputs": [],
   "source": []
  },
  {
   "cell_type": "code",
   "execution_count": null,
   "metadata": {},
   "outputs": [],
   "source": []
  },
  {
   "cell_type": "code",
   "execution_count": null,
   "metadata": {},
   "outputs": [],
   "source": []
  },
  {
   "cell_type": "code",
   "execution_count": null,
   "metadata": {},
   "outputs": [],
   "source": []
  },
  {
   "cell_type": "code",
   "execution_count": null,
   "metadata": {},
   "outputs": [],
   "source": []
  },
  {
   "cell_type": "code",
   "execution_count": null,
   "metadata": {},
   "outputs": [],
   "source": []
  },
  {
   "cell_type": "code",
   "execution_count": null,
   "metadata": {},
   "outputs": [],
   "source": []
  },
  {
   "cell_type": "code",
   "execution_count": null,
   "metadata": {},
   "outputs": [],
   "source": []
  },
  {
   "cell_type": "code",
   "execution_count": null,
   "metadata": {},
   "outputs": [],
   "source": []
  },
  {
   "cell_type": "code",
   "execution_count": null,
   "metadata": {},
   "outputs": [],
   "source": []
  },
  {
   "cell_type": "code",
   "execution_count": null,
   "metadata": {},
   "outputs": [],
   "source": []
  },
  {
   "cell_type": "code",
   "execution_count": null,
   "metadata": {},
   "outputs": [],
   "source": []
  },
  {
   "cell_type": "code",
   "execution_count": null,
   "metadata": {},
   "outputs": [],
   "source": []
  },
  {
   "cell_type": "code",
   "execution_count": null,
   "metadata": {},
   "outputs": [],
   "source": []
  },
  {
   "cell_type": "code",
   "execution_count": null,
   "metadata": {},
   "outputs": [],
   "source": []
  },
  {
   "cell_type": "code",
   "execution_count": null,
   "metadata": {},
   "outputs": [],
   "source": []
  },
  {
   "cell_type": "markdown",
   "metadata": {},
   "source": [
    "Import my .csv to a panda dataframe"
   ]
  }
 ],
 "metadata": {
  "kernelspec": {
   "display_name": "Python 3",
   "language": "python",
   "name": "python3"
  },
  "language_info": {
   "codemirror_mode": {
    "name": "ipython",
    "version": 3
   },
   "file_extension": ".py",
   "mimetype": "text/x-python",
   "name": "python",
   "nbconvert_exporter": "python",
   "pygments_lexer": "ipython3",
   "version": "3.6.5"
  }
 },
 "nbformat": 4,
 "nbformat_minor": 2
}
